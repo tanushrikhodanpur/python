{
 "cells": [
  {
   "cell_type": "code",
   "execution_count": 2,
   "metadata": {},
   "outputs": [
    {
     "name": "stdout",
     "output_type": "stream",
     "text": [
      "hi 123 hello\n"
     ]
    }
   ],
   "source": [
    "print(\"hi\",123,\"hello\")"
   ]
  },
  {
   "cell_type": "code",
   "execution_count": 2,
   "metadata": {},
   "outputs": [
    {
     "name": "stdout",
     "output_type": "stream",
     "text": [
      "The sum of 1.6 and 6.3 is 7.9\n"
     ]
    }
   ],
   "source": [
    "num1 = 1.6\n",
    "num2 = 6.3\n",
    "sum = float(num1) + float(num2)\n",
    "print('The sum of {0} and {1} is {2}'.format(num1, num2, sum))"
   ]
  },
  {
   "cell_type": "code",
   "execution_count": 2,
   "metadata": {},
   "outputs": [
    {
     "name": "stdout",
     "output_type": "stream",
     "text": [
      "Result of square= 25\n"
     ]
    }
   ],
   "source": [
    "def sqr(number):\n",
    "    res=number*number\n",
    "    print(\"Result of square=\",res)\n",
    "\n",
    "inp=int(input(\"Enter the number: \"))\n",
    "sqr(inp)\n",
    "\n",
    "# p,q,r = 5,10,15\n",
    "# print(p,q)\n",
    "\n",
    "# p,q=q,p\n",
    "# print(p,q)\n",
    "\n",
    "# x=10\n",
    "# y = x+2\n",
    "# print(id(y))\n",
    "# y = x+5\n",
    "# print(id(y))\n",
    "# x=10\n",
    "# print(type(x))\n",
    "\n",
    "# ans=10/0\n",
    "# print(ans)\n",
    "\n"
   ]
  },
  {
   "cell_type": "code",
   "execution_count": 6,
   "metadata": {},
   "outputs": [
    {
     "name": "stdout",
     "output_type": "stream",
     "text": [
      "The area of triangle is 0.00\n"
     ]
    }
   ],
   "source": [
    "a= float(input('Enter the length of first side: '))\n",
    "b= float(input('Enter the length of second side: '))\n",
    "c= float(input('Enter the length of third side: '))\n",
    "s = (a + b + c) / 2\n",
    "Area = (s*(s-a)*(s-b)*(s-c)) ** 0.5\n",
    "print('The area of triangle is %0.2f'%Area) "
   ]
  },
  {
   "cell_type": "code",
   "execution_count": 8,
   "metadata": {},
   "outputs": [
    {
     "name": "stdout",
     "output_type": "stream",
     "text": [
      "Simple Interest=  5000.0\n"
     ]
    }
   ],
   "source": [
    "principal = float(input (\"Enter the principal:\"))\n",
    "years = float(input(\"Enter the no.of years:\"))\n",
    "rate = float(input(\"Enter rate of interest:\"))\n",
    "si = (principal * years  * rate)/ 100\n",
    "print (\"Simple Interest= \",si)"
   ]
  },
  {
   "cell_type": "code",
   "execution_count": 9,
   "metadata": {},
   "outputs": [
    {
     "name": "stdout",
     "output_type": "stream",
     "text": [
      "Compound interest is 640348.67\n"
     ]
    }
   ],
   "source": [
    "#python program for compound interest\n",
    "\n",
    "principle = float(input(\"Enter the principle: \"))\n",
    "rate = float(input(\"Enter the rate of interest: \"))\n",
    "time = float(input(\"Enter the time: \"))\n",
    "amount = principle * (pow((1+ rate / 100), time))\n",
    "ci = amount - principle\n",
    "print(\"Compound interest is\", round(ci,2))"
   ]
  },
  {
   "cell_type": "code",
   "execution_count": 10,
   "metadata": {},
   "outputs": [
    {
     "name": "stdout",
     "output_type": "stream",
     "text": [
      "Area of circle = 113.040000\n"
     ]
    }
   ],
   "source": [
    "#python program to find area of a circle\n",
    "def findArea(r):\n",
    "    PI = 3.14\n",
    "    return PI * (r*r);\n",
    "print(\"Area of circle = %.6f\" % findArea(6));\n"
   ]
  },
  {
   "cell_type": "code",
   "execution_count": 11,
   "metadata": {},
   "outputs": [
    {
     "name": "stdout",
     "output_type": "stream",
     "text": [
      "x = 10\n",
      "y = 5\n"
     ]
    }
   ],
   "source": [
    "#python to swap two variables\n",
    "\n",
    "x = 5\n",
    "y = 10\n",
    "\n",
    "x, y = y, x\n",
    "print(\"x =\", x)\n",
    "print(\"y =\", y)"
   ]
  },
  {
   "cell_type": "code",
   "execution_count": 13,
   "metadata": {},
   "outputs": [
    {
     "name": "stdout",
     "output_type": "stream",
     "text": [
      "0\n"
     ]
    }
   ],
   "source": [
    "# Program to generate a random number \n",
    "\n",
    "# importing the random module\n",
    "import random\n",
    "\n",
    "print(random.randint(0,9))"
   ]
  },
  {
   "cell_type": "code",
   "execution_count": 14,
   "metadata": {},
   "outputs": [
    {
     "name": "stdout",
     "output_type": "stream",
     "text": [
      "3.50 kilometers is equal to 2.17 miles\n"
     ]
    }
   ],
   "source": [
    "# python program to convert kilometers to miles\n",
    "\n",
    "kilometers = float(input(\"Enter value in kilometers: \"))\n",
    "\n",
    "conv_fac = 0.621371\n",
    "\n",
    "miles = kilometers * conv_fac\n",
    "print('%0.2f kilometers is equal to %0.2f miles' %(kilometers,miles))"
   ]
  },
  {
   "cell_type": "code",
   "execution_count": 30,
   "metadata": {},
   "outputs": [
    {
     "name": "stdout",
     "output_type": "stream",
     "text": [
      "Positive number\n"
     ]
    }
   ],
   "source": [
    "num = float(input(\"Enter a number: \"))\n",
    "if num > 0:\n",
    "   print(\"Positive number\")\n",
    "elif num == 0:\n",
    "   print(\"Zero\")\n",
    "else:\n",
    "   print(\"Negative number\")   "
   ]
  },
  {
   "cell_type": "code",
   "execution_count": 33,
   "metadata": {},
   "outputs": [
    {
     "name": "stdout",
     "output_type": "stream",
     "text": [
      "The number is even!\n"
     ]
    }
   ],
   "source": [
    "#program to check if a number is odd or even\n",
    "\n",
    "number = int(input('Enter a number:'))\n",
    "if number % 2 == 0:\n",
    "    print(\"The number is even!\")\n",
    "else:\n",
    "    print(\"The number is odd!\")"
   ]
  },
  {
   "cell_type": "code",
   "execution_count": 34,
   "metadata": {},
   "outputs": [
    {
     "name": "stdout",
     "output_type": "stream",
     "text": [
      "The largest number is 190.0\n"
     ]
    }
   ],
   "source": [
    "#program to find the largest amoung three numbers\n",
    "\n",
    "n1 = float(input(\"Enter first number:\"))\n",
    "n2 = float(input(\"Enter second number:\"))\n",
    "n3 = float(input(\"Enter third number:\"))\n",
    "\n",
    "if (n1 > n2) and (n1 > n3):\n",
    "    largest = n1\n",
    "elif (n2 > n1) and (n2 > n3):\n",
    "    largest = n2\n",
    "else:\n",
    "    largest = n3 \n",
    "print(\"The largest number is\", largest)            "
   ]
  },
  {
   "cell_type": "code",
   "execution_count": 22,
   "metadata": {},
   "outputs": [
    {
     "name": "stdout",
     "output_type": "stream",
     "text": [
      "11 is a prime number\n"
     ]
    }
   ],
   "source": [
    "#python program to check prime number \n",
    "\n",
    "number = int(input(\"Enter a number:\"))\n",
    "if number > 1:\n",
    "    for i in range(2,(number//2)+1):\n",
    "        if (number % i) == 0:\n",
    "            print(number,\"is not a prime number\")\n",
    "            break\n",
    "    else:\n",
    "        print(number,\"is a prime number\")\n",
    "else:\n",
    "    print(number,\"is not a prime number\")\n",
    "    \n",
    "           "
   ]
  },
  {
   "cell_type": "code",
   "execution_count": 1,
   "metadata": {},
   "outputs": [
    {
     "name": "stdout",
     "output_type": "stream",
     "text": [
      "[2, 3, 5, 7, 11, 13, 17, 19, 23, 29, 31, 37, 41, 43, 47, 53, 59, 61, 67, 71, 73, 79, 83, 89, 97]\n"
     ]
    }
   ],
   "source": [
    "#python program to print all prime numbers between 1 to 100\n",
    "\n",
    "def get_primes(start, end):\n",
    "    out = list()\n",
    "    if start <= 1:\n",
    "        start = 2\n",
    "\n",
    "    sieve = [True] * (end + 1)\n",
    "    for p in range(start, end + 1):\n",
    "        if (sieve[p]):\n",
    "            out.append(p)\n",
    "            for i in range(p, end + 1, p):\n",
    "                sieve[i] = False\n",
    "    return out\n",
    "\n",
    "print(get_primes(1, 100))\n"
   ]
  },
  {
   "cell_type": "code",
   "execution_count": 2,
   "metadata": {},
   "outputs": [
    {
     "name": "stdout",
     "output_type": "stream",
     "text": [
      "Factorial of 5 is 120\n"
     ]
    }
   ],
   "source": [
    "#program to find factorial of a number\n",
    "\n",
    "\n",
    "def factorial(n):\n",
    "     \n",
    "    # single line to find factorial\n",
    "    return 1 if (n==1 or n==0) else n * factorial(n - 1)\n",
    " \n",
    "# Driver Code\n",
    "num = 5\n",
    "print(\"Factorial of\",num,\"is\",factorial(num))"
   ]
  },
  {
   "cell_type": "code",
   "execution_count": 3,
   "metadata": {},
   "outputs": [
    {
     "name": "stdout",
     "output_type": "stream",
     "text": [
      "34\n"
     ]
    }
   ],
   "source": [
    "#python program to print the fibonacci sequence\n",
    "\n",
    "\n",
    "def Fibonacci(n):\n",
    "\n",
    "    if n < 0:\n",
    "        print(\"Incorrect input\")\n",
    "   \n",
    "    elif n == 0:\n",
    "        return 0\n",
    " \n",
    "    elif n == 1 or n == 2:\n",
    "        return 1\n",
    " \n",
    "    else:\n",
    "        return Fibonacci(n-1) + Fibonacci(n-2)\n",
    " \n",
    "print(Fibonacci(9))"
   ]
  },
  {
   "cell_type": "code",
   "execution_count": 11,
   "metadata": {},
   "outputs": [
    {
     "name": "stdout",
     "output_type": "stream",
     "text": [
      "Enter a Number (Numerator): \n",
      "Enter a Number (denominator): \n",
      "\n",
      "24 is divisible by 12\n"
     ]
    }
   ],
   "source": [
    "#python programs to find numbers divisible by another number\n",
    "\n",
    "print(\"Enter a Number (Numerator): \")\n",
    "numn = int(input())\n",
    "print(\"Enter a Number (denominator): \")\n",
    "numd = int(input())\n",
    "\n",
    "if numn%numd==0:\n",
    "  print(\"\\n\" +str(numn)+ \" is divisible by \" +str(numd))\n",
    "else:\n",
    "  print(\"\\n\" +str(numn)+ \" is not divisible by \" +str(numd))\n",
    "\n",
    "\n"
   ]
  },
  {
   "cell_type": "code",
   "execution_count": 12,
   "metadata": {},
   "outputs": [
    {
     "name": "stdout",
     "output_type": "stream",
     "text": [
      "The decimal value of 555 is:\n",
      "0b1000101011 in binary.\n",
      "0o1053 in octal.\n",
      "0x22b in hexadecimal.\n"
     ]
    }
   ],
   "source": [
    "#python program to convert decimal to binary.octal and hexadecimal\n",
    "\n",
    "dec = int(input(\"Enter an integer: \"))\n",
    " \n",
    "print(\"The decimal value of\", dec, \"is:\")\n",
    "print(bin(dec), \"in binary.\")\n",
    "print(oct(dec), \"in octal.\")\n",
    "print(hex(dec), \"in hexadecimal.\")"
   ]
  },
  {
   "cell_type": "code",
   "execution_count": 13,
   "metadata": {},
   "outputs": [
    {
     "name": "stdout",
     "output_type": "stream",
     "text": [
      "The ASCII value of 'p' is 112\n"
     ]
    }
   ],
   "source": [
    "#python program to find ASCII values of character\n",
    "\n",
    "\n",
    "c = 'p'\n",
    "print(\"The ASCII value of '\" + c + \"' is\", ord(c))"
   ]
  },
  {
   "cell_type": "code",
   "execution_count": 16,
   "metadata": {},
   "outputs": [
    {
     "name": "stdout",
     "output_type": "stream",
     "text": [
      "The factors of 320 are:\n",
      "1\n",
      "2\n",
      "4\n",
      "5\n",
      "8\n",
      "10\n",
      "16\n",
      "20\n",
      "32\n",
      "40\n",
      "64\n",
      "80\n",
      "160\n",
      "320\n"
     ]
    }
   ],
   "source": [
    "#python program to find the factors of a number\n",
    "\n",
    "\n",
    "def print_factors(x):\n",
    "   print(\"The factors of\",x,\"are:\")\n",
    "   for i in range(1, x + 1):\n",
    "       if x % i == 0:\n",
    "           print(i)\n",
    "\n",
    "num = 320\n",
    "\n",
    "print_factors(num)"
   ]
  },
  {
   "cell_type": "code",
   "execution_count": 21,
   "metadata": {},
   "outputs": [
    {
     "name": "stdout",
     "output_type": "stream",
     "text": [
      "Please select the operation.\n",
      "a. Add\n",
      "b. Subtract\n",
      "c. Multiply\n",
      "d. Divide\n",
      "1  /  3  =  0.3333333333333333\n"
     ]
    }
   ],
   "source": [
    "#python program to make a simple calculator\n",
    "\n",
    "def add(P, Q):    \n",
    "   # This function is used for adding two numbers   \n",
    "   return P + Q   \n",
    "def subtract(P, Q):   \n",
    "   # This function is used for subtracting two numbers   \n",
    "   return P - Q   \n",
    "def multiply(P, Q):   \n",
    "   # This function is used for multiplying two numbers   \n",
    "   return P * Q   \n",
    "def divide(P, Q):   \n",
    "   # This function is used for dividing two numbers    \n",
    "   return P / Q    \n",
    "# Now we will take inputs from the user    \n",
    "print (\"Please select the operation.\")    \n",
    "print (\"a. Add\")    \n",
    "print (\"b. Subtract\")    \n",
    "print (\"c. Multiply\")    \n",
    "print (\"d. Divide\")    \n",
    "    \n",
    "choice = input(\"Please enter choice (a/ b/ c/ d): \")    \n",
    "    \n",
    "num_1 = int (input (\"Please enter the first number: \"))    \n",
    "num_2 = int (input (\"Please enter the second number: \"))    \n",
    "    \n",
    "if choice == 'a':    \n",
    "   print (num_1, \" + \", num_2, \" = \", add(num_1, num_2))    \n",
    "    \n",
    "elif choice == 'b':    \n",
    "   print (num_1, \" - \", num_2, \" = \", subtract(num_1, num_2))    \n",
    "    \n",
    "elif choice == 'c':    \n",
    "   print (num1, \" * \", num2, \" = \", multiply(num1, num2))    \n",
    "elif choice == 'd':    \n",
    "   print (num_1, \" / \", num_2, \" = \", divide(num_1, num_2))    \n",
    "else:    \n",
    "   print (\"This is an invalid input\")    "
   ]
  },
  {
   "cell_type": "code",
   "execution_count": 26,
   "metadata": {},
   "outputs": [
    {
     "name": "stdout",
     "output_type": "stream",
     "text": [
      "[10, 10, 10]\n",
      "[10, 10, 10]\n",
      "[10, 10, 10]\n"
     ]
    }
   ],
   "source": [
    "#python program to add two matrix\n",
    "\n",
    "X= [[1,2,3],\n",
    "    [4 ,5,6],\n",
    "    [7 ,8,9]]\n",
    " \n",
    "Y = [[9,8,7],\n",
    "    [6,5,4],\n",
    "    [3,2,1]]\n",
    "result = [[X[i][j] + Y[i][j]  for j in range\n",
    "(len(X[0]))] for i in range(len(X))]\n",
    "  \n",
    "for r in result:\n",
    "    print(r)"
   ]
  },
  {
   "cell_type": "code",
   "execution_count": 30,
   "metadata": {},
   "outputs": [
    {
     "name": "stdout",
     "output_type": "stream",
     "text": [
      "Result matrix is\n",
      "1  2  3  \n",
      "1  2  3  \n",
      "1  2  3  \n",
      "1  2  3  \n"
     ]
    }
   ],
   "source": [
    "#python program to transpose a matrix\n",
    "\n",
    "M = 3\n",
    "N = 4\n",
    " \n",
    "# This function stores\n",
    "# transpose of A[][] in B[][]\n",
    " \n",
    "def transpose(A, B):\n",
    " \n",
    " for i in range(N):\n",
    "  for j in range(M):\n",
    "   B[i][j] = A[j][i]\n",
    " \n",
    "# driver code\n",
    "A = [ [1, 1, 1, 1],\n",
    " [2, 2, 2, 2],\n",
    " [3, 3, 3, 3]]\n",
    " \n",
    " \n",
    "# To store result\n",
    "B = [[0 for x in range(M)] for y in range(N)]\n",
    " \n",
    "transpose(A, B)\n",
    " \n",
    "print(\"Result matrix is\")\n",
    "for i in range(N):\n",
    " for j in range(M):\n",
    "  print(B[i][j], \" \", end='')\n",
    " print() \n",
    "\n",
    " \n",
    " "
   ]
  },
  {
   "cell_type": "code",
   "execution_count": 36,
   "metadata": {},
   "outputs": [
    {
     "name": "stdout",
     "output_type": "stream",
     "text": [
      "[114, 160, 60, 27]\n",
      "[74, 97, 73, 14]\n",
      "[119, 157, 112, 23]\n"
     ]
    }
   ],
   "source": [
    "#python program to multiply two matrices\n",
    "\n",
    "\n",
    "# 3x3 matrix\n",
    "X = [[12,7,3],\n",
    "    [4 ,5,6],\n",
    "    [7 ,8,9]]\n",
    "# 3x4 matrix\n",
    "Y = [[5,8,1,2],\n",
    "    [6,7,3,0],\n",
    "    [4,5,9,1]]\n",
    "# result is 3x4\n",
    "result = [[0,0,0,0],\n",
    "         [0,0,0,0],\n",
    "         [0,0,0,0]]\n",
    "\n",
    "# iterate through rows of X\n",
    "for i in range(len(X)):\n",
    "   # iterate through columns of Y\n",
    "   for j in range(len(Y[0])):\n",
    "       # iterate through rows of Y\n",
    "       for k in range(len(Y)):\n",
    "           result[i][j] += X[i][k] * Y[k][j]\n",
    "\n",
    "for r in result:\n",
    "   print(r)\n",
    "\n"
   ]
  },
  {
   "cell_type": "code",
   "execution_count": 37,
   "metadata": {},
   "outputs": [
    {
     "name": "stdout",
     "output_type": "stream",
     "text": [
      "Yes\n"
     ]
    }
   ],
   "source": [
    "#python program to check whether a string is palindrome or not\n",
    "\n",
    "def isPalindrome(str):\n",
    "      \n",
    "    # Run loop from 0 to len/2\n",
    "    for i in range(0, int(len(str)/2)):\n",
    "        if str[i] != str[len(str)-i-1]:\n",
    "            return False\n",
    "    return True\n",
    "  \n",
    "# main function\n",
    "s = \"malayalam\"\n",
    "ans = isPalindrome(s)\n",
    "  \n",
    "if (ans):\n",
    "    print(\"Yes\")\n",
    "else:\n",
    "    print(\"No\")"
   ]
  },
  {
   "cell_type": "code",
   "execution_count": 39,
   "metadata": {},
   "outputs": [
    {
     "name": "stdout",
     "output_type": "stream",
     "text": [
      "1 \n",
      "\n",
      "1 2 \n",
      "\n",
      "1 2 3 \n",
      "\n",
      "1 2 3 4 \n",
      "\n",
      "1 2 3 4 5 \n",
      "\n",
      "1 2 3 4 5 6 \n",
      "\n",
      "1 2 3 4 5 6 7 \n",
      "\n",
      "1 2 3 4 5 6 7 8 \n",
      "\n",
      "1 2 3 4 5 6 7 8 9 \n",
      "\n",
      "1 2 3 4 5 6 7 8 9 10 \n",
      "\n"
     ]
    }
   ],
   "source": [
    "#python program to create pyramid patterns of numbers till 10\n",
    "\n",
    "rows = int(input(\"Enter number of rows: \"))\n",
    "\n",
    "for i in range(rows):\n",
    "    for j in range(i+1):\n",
    "        print(j+1, end=\" \")\n",
    "    print(\"\\n\")"
   ]
  },
  {
   "cell_type": "code",
   "execution_count": 40,
   "metadata": {},
   "outputs": [
    {
     "name": "stdout",
     "output_type": "stream",
     "text": [
      "{'a': 10, 'b': 8, 'd': 6, 'c': 4}\n"
     ]
    }
   ],
   "source": [
    "#python program to merge two dictionaries\n",
    "\n",
    "def Merge(dict1, dict2):\n",
    "    res = {**dict1, **dict2}\n",
    "    return res\n",
    "     \n",
    "# Driver code\n",
    "dict1 = {'a': 10, 'b': 8}\n",
    "dict2 = {'d': 6, 'c': 4}\n",
    "dict3 = Merge(dict1, dict2)\n",
    "print(dict3)"
   ]
  },
  {
   "cell_type": "code",
   "execution_count": 41,
   "metadata": {},
   "outputs": [
    {
     "name": "stdout",
     "output_type": "stream",
     "text": [
      "Indices and Index value in the list:\n",
      "0 S\n",
      "1 T\n",
      "2 U\n",
      "3 D\n",
      "4 E\n",
      "5 N\n",
      "6 T\n",
      "7 S\n",
      "8 F\n",
      "9 O\n",
      "10 R\n",
      "11 S\n",
      "12 T\n",
      "13 U\n",
      "14 D\n",
      "15 E\n",
      "16 N\n",
      "17 T\n",
      "18 S\n"
     ]
    }
   ],
   "source": [
    "#python program access index of a list using for loop \n",
    "\n",
    "data = \"STUDENTSFORSTUDENTS\"\n",
    " \n",
    "print(\"Indices and Index value in the list:\")\n",
    " \n",
    " \n",
    "# display indices in the list\n",
    "for i in range(len(data)):\n",
    "    print(i, data[i])\n",
    "\n"
   ]
  },
  {
   "cell_type": "code",
   "execution_count": 1,
   "metadata": {},
   "outputs": [
    {
     "name": "stdout",
     "output_type": "stream",
     "text": [
      "[1, 'a', 2, 3]\n"
     ]
    }
   ],
   "source": [
    "#python program to concatent two lists\n",
    "\n",
    "list_1 = [1, 'a']\n",
    "list_2 = range(2, 4)\n",
    "\n",
    "list_joined = [*list_1, *list_2]\n",
    "print(list_joined)"
   ]
  },
  {
   "cell_type": "code",
   "execution_count": 2,
   "metadata": {},
   "outputs": [
    {
     "name": "stdout",
     "output_type": "stream",
     "text": [
      "The original list is : [1, 4, 5, 6, 3, 5]\n",
      "The last element of list using loop : 5\n",
      "The last element of list using reverse : 5\n"
     ]
    }
   ],
   "source": [
    "#python program to get the last element of the list\n",
    "\n",
    "# initializing list\n",
    "test_list = [1, 4, 5, 6, 3, 5]\n",
    " \n",
    "# printing original list\n",
    "print(\"The original list is : \" + str(test_list))\n",
    " \n",
    "# First naive method\n",
    "# using loop method to print last element\n",
    "for i in range(0, len(test_list)):\n",
    " \n",
    "    if i == (len(test_list)-1):\n",
    "        print(\"The last element of list using loop : \"\n",
    "              + str(test_list[i]))\n",
    " \n",
    "# Second naive method\n",
    "# using reverse method to print last element\n",
    "test_list.reverse()\n",
    "print(\"The last element of list using reverse : \"\n",
    "      + str(test_list[0]))"
   ]
  },
  {
   "cell_type": "code",
   "execution_count": 4,
   "metadata": {},
   "outputs": [
    {
     "name": "stdout",
     "output_type": "stream",
     "text": [
      "Original list is : [1, 4, 5, 2, 7]\n",
      "Random selected number is : 5\n"
     ]
    }
   ],
   "source": [
    "#python program to randomly select an element from the list \n",
    "\n",
    "import random\n",
    " \n",
    "# initializing list\n",
    "test_list = [1, 4, 5, 2, 7]\n",
    " \n",
    "# printing original list\n",
    "print(\"Original list is : \" + str(test_list))\n",
    " \n",
    "# using random.choice() to\n",
    "# get a random number\n",
    "random_num = random.choice(test_list)\n",
    " \n",
    "# printing random number\n",
    "print(\"Random selected number is : \" + str(random_num))"
   ]
  },
  {
   "cell_type": "code",
   "execution_count": 5,
   "metadata": {},
   "outputs": [
    {
     "name": "stdout",
     "output_type": "stream",
     "text": [
      "11 23 45 23 11 "
     ]
    }
   ],
   "source": [
    "#python program to print odd numbers in a list\n",
    "\n",
    "list1 = [11,23,45,23,64,22,11,24]\n",
    "# iteration\n",
    "for num in list1:\n",
    "   # check\n",
    "   if num % 2 != 0:\n",
    "      print(num, end = \" \")"
   ]
  },
  {
   "cell_type": "code",
   "execution_count": 6,
   "metadata": {},
   "outputs": [
    {
     "name": "stdout",
     "output_type": "stream",
     "text": [
      "4 6 8 10 12 14 "
     ]
    }
   ],
   "source": [
    "#python program to print all even numbers in a range\n",
    "\n",
    "for even_numbers in range(4,15,2):\n",
    "      #here inside range function first no denotes starting,\n",
    "  #second denotes end and\n",
    "  #third denotes the interval\n",
    "    print(even_numbers,end=' ')"
   ]
  },
  {
   "cell_type": "code",
   "execution_count": 7,
   "metadata": {},
   "outputs": [
    {
     "name": "stdout",
     "output_type": "stream",
     "text": [
      "Sum of the array is  56\n"
     ]
    }
   ],
   "source": [
    "#python program to find sum of array \n",
    "\n",
    "import array as ar\n",
    "\n",
    "def SumofArray(arr):\n",
    "    sum=0\n",
    "    n = len(arr)\n",
    "    for i in range(n):\n",
    "        sum = sum + arr[i]\n",
    "    return sum\n",
    "  \n",
    "#input values to list \n",
    "a = ar.array('i',[10, 21, 12, 13])\n",
    "  \n",
    "# display sum \n",
    "print ('Sum of the array is ', SumofArray(a) ) \n"
   ]
  },
  {
   "cell_type": "code",
   "execution_count": 8,
   "metadata": {},
   "outputs": [
    {
     "name": "stdout",
     "output_type": "stream",
     "text": [
      "False\n",
      "True\n"
     ]
    }
   ],
   "source": [
    "#python program to check if string is number(Float)\n",
    "\n",
    "def isfloat(num):\n",
    "    try:\n",
    "        float(num)\n",
    "        return True\n",
    "    except ValueError:\n",
    "        return False\n",
    "\n",
    "print(isfloat('s12'))\n",
    "print(isfloat('1.123'))"
   ]
  },
  {
   "cell_type": "code",
   "execution_count": 10,
   "metadata": {},
   "outputs": [
    {
     "name": "stdout",
     "output_type": "stream",
     "text": [
      "Original key list is : ['Rash', 'Kil', 'Varsha']\n",
      "Original value list is : [1, 4, 5]\n",
      "Resultant dictionary is : {'Rash': 1, 'Kil': 4, 'Varsha': 5}\n"
     ]
    }
   ],
   "source": [
    "#python program to convert two lists into a dictionary\n",
    "\n",
    "\n",
    "test_keys = [\"Rash\", \"Kil\", \"Varsha\"]\n",
    "test_values = [1, 4, 5]\n",
    " \n",
    "# Printing original keys-value lists\n",
    "print(\"Original key list is : \" + str(test_keys))\n",
    "print(\"Original value list is : \" + str(test_values))\n",
    " \n",
    "# using dictionary comprehension\n",
    "# to convert lists to dictionary\n",
    "res = {test_keys[i]: test_values[i] for i in range(len(test_keys))}\n",
    " \n",
    "# Printing resultant dictionary\n",
    "print(\"Resultant dictionary is : \" + str(res))"
   ]
  },
  {
   "cell_type": "code",
   "execution_count": 11,
   "metadata": {},
   "outputs": [
    {
     "name": "stdout",
     "output_type": "stream",
     "text": [
      "Reversed Number: 4321\n"
     ]
    }
   ],
   "source": [
    "#python program to reverse a number\n",
    "\n",
    "num = 1234\n",
    "reversed_num = 0\n",
    "\n",
    "while num != 0:\n",
    "    digit = num % 10\n",
    "    reversed_num = reversed_num * 10 + digit\n",
    "    num //= 10\n",
    "\n",
    "print(\"Reversed Number: \" + str(reversed_num))"
   ]
  },
  {
   "cell_type": "code",
   "execution_count": 12,
   "metadata": {},
   "outputs": [
    {
     "name": "stdout",
     "output_type": "stream",
     "text": [
      "Value of 5 raised to the power 3 ( 5 ^ 3 ) = 125\n",
      "Value of 4 raised to the power 0 ( 4 ^ 0 ) = 1\n"
     ]
    }
   ],
   "source": [
    "#python program to compute the power of a number\n",
    "\n",
    "def findPower(number, exponent):\n",
    "       # intializing a variable with 1 (it stores the resultant power)\n",
    "   resultPower =1\n",
    "   # traversing in the range from 1 to given exponent+1\n",
    "   for i in range(1, exponent+1):\n",
    "      # Multiplying the result with the given number\n",
    "      resultPower=resultPower*number\n",
    "   # returning the resultant power\n",
    "   return resultPower\n",
    "# input number, exponent values\n",
    "number = 5\n",
    "exponent = 3\n",
    "# calling the findPower() function by passing the number,exponent values\n",
    "# as arguments\n",
    "print(\"Value of\",number,\"raised to the power\",exponent,\"(\",number,\"^\",exponent,\") =\", findPower(number,exponent))\n",
    "#, In the same way, calculating for other numbers\n",
    "number = 4\n",
    "exponent = 0\n",
    "print(\"Value of\",number,\"raised to the power\",exponent,\"(\",number,\"^\",exponent,\") =\", findPower(number,exponent))"
   ]
  },
  {
   "cell_type": "code",
   "execution_count": 13,
   "metadata": {},
   "outputs": [
    {
     "name": "stdout",
     "output_type": "stream",
     "text": [
      "The number of digits in the number are: 2\n"
     ]
    }
   ],
   "source": [
    "#python program to count the number of digits present in a number\n",
    "\n",
    "n=int(input(\"Enter number:\"))\n",
    "count=0\n",
    "while(n>0):\n",
    "    count=count+1\n",
    "    n=n//10\n",
    "print(\"The number of digits in the number are:\",count)"
   ]
  },
  {
   "cell_type": "code",
   "execution_count": 14,
   "metadata": {},
   "outputs": [
    {
     "name": "stdout",
     "output_type": "stream",
     "text": [
      "[2, 4, 10, 20, 5]\n"
     ]
    }
   ],
   "source": [
    "#python program to remove duplicate element from a list \n",
    "\n",
    "def Remove(duplicate):\n",
    "    final_list = []\n",
    "    for num in duplicate:\n",
    "        if num not in final_list:\n",
    "            final_list.append(num)\n",
    "    return final_list\n",
    "     \n",
    "# Driver Code\n",
    "duplicate = [2, 4, 10, 20, 5, 2, 20, 4]\n",
    "print(Remove(duplicate))"
   ]
  },
  {
   "cell_type": "code",
   "execution_count": 15,
   "metadata": {},
   "outputs": [
    {
     "name": "stdout",
     "output_type": "stream",
     "text": [
      "   December 2000\n",
      "Mo Tu We Th Fr Sa Su\n",
      "             1  2  3\n",
      " 4  5  6  7  8  9 10\n",
      "11 12 13 14 15 16 17\n",
      "18 19 20 21 22 23 24\n",
      "25 26 27 28 29 30 31\n",
      "\n"
     ]
    }
   ],
   "source": [
    "#python program to display calendar\n",
    "\n",
    "\n",
    "import calendar  \n",
    "# Enter the month and year  \n",
    "yy = int(input(\"Enter year: \"))  \n",
    "mm = int(input(\"Enter month: \"))  \n",
    "  \n",
    "# display the calendar  \n",
    "print(calendar.month(yy,mm))"
   ]
  },
  {
   "cell_type": "code",
   "execution_count": 16,
   "metadata": {},
   "outputs": [
    {
     "name": "stdout",
     "output_type": "stream",
     "text": [
      "Sum of the array is  34\n"
     ]
    }
   ],
   "source": [
    "#python program tto find sum of array\n",
    "\n",
    "def _sum(arr):\n",
    "     \n",
    "    # initialize a variable\n",
    "    # to store the sum\n",
    "    # while iterating through\n",
    "    # the array later\n",
    "    sum = 0\n",
    " \n",
    "    # iterate through the array\n",
    "    # and add each element to the sum variable\n",
    "    # one at a time\n",
    "    for i in arr:\n",
    "        sum = sum + i\n",
    " \n",
    "    return(sum)\n",
    " \n",
    " \n",
    "# main function\n",
    "if __name__ == \"__main__\":\n",
    "    # input values to list\n",
    "    arr = [12, 3, 4, 15]\n",
    " \n",
    "    # calculating length of array\n",
    "    n = len(arr)\n",
    "    # calling function ans store the sum in ans\n",
    "    ans = _sum(arr)\n",
    "    # display sum\n",
    "    print('Sum of the array is ', ans)\n"
   ]
  },
  {
   "cell_type": "code",
   "execution_count": 21,
   "metadata": {},
   "outputs": [
    {
     "name": "stdout",
     "output_type": "stream",
     "text": [
      "The url is:  ['https://www.tutorialspoint.com/python-program-to-check-for-url-in-a-string']\n"
     ]
    }
   ],
   "source": [
    "#python | check url in a string\n",
    "\n",
    "import re\n",
    "def checkURL(str):\n",
    "# findall() function used with the conditions which is valid for url in the strings\n",
    "# The regex function can store all the characters including the upper case and the lower case of the alphabets, numbers, special cases and characters etc 8. Python program to check for url in a string\n",
    "\n",
    "   regex= 'http[s]?://(?:[a-zA-Z]|[0-9]|[$-_@.&+]|[!*\\(\\), ]|(?:%[0-9a-fA-F][0-9a-fA-F]))+' \n",
    "   URL= re.findall(regex,str) \n",
    "   return URL \n",
    "# The driver code \n",
    "m = \"https://www.tutorialspoint.com/python-program-to-check-for-url-in-a-string\" \n",
    "print(\"The url is: \", checkURL(m))"
   ]
  },
  {
   "cell_type": "code",
   "execution_count": 22,
   "metadata": {},
   "outputs": [
    {
     "name": "stdout",
     "output_type": "stream",
     "text": [
      "The original dictionary is : {'gfg': [7, 6, 3], 'is': [2, 10, 3], 'best': [19, 4]}\n",
      "The sorted dictionary : {'best': [4, 19], 'gfg': [3, 6, 7], 'is': [2, 3, 10]}\n"
     ]
    }
   ],
   "source": [
    "#python- sort dictionary key and values list\n",
    "\n",
    "\n",
    "# initializing dictionary\n",
    "test_dict = {'gfg': [7, 6, 3],\n",
    "             'is': [2, 10, 3],\n",
    "             'best': [19, 4]}\n",
    " \n",
    "# printing original dictionary\n",
    "print(\"The original dictionary is : \" + str(test_dict))\n",
    " \n",
    "# Sort Dictionary key and values List\n",
    "# Using loop + dictionary comprehension\n",
    "res = dict()\n",
    "for key in sorted(test_dict):\n",
    "    res[key] = sorted(test_dict[key])\n",
    " \n",
    "# printing result\n",
    "print(\"The sorted dictionary : \" + str(res))"
   ]
  },
  {
   "cell_type": "code",
   "execution_count": 23,
   "metadata": {},
   "outputs": [
    {
     "name": "stdout",
     "output_type": "stream",
     "text": [
      "Size of Tuple1: 88bytes\n",
      "Size of Tuple2: 88bytes\n",
      "Size of Tuple3: 72bytes\n"
     ]
    }
   ],
   "source": [
    "#python program to find the size of a tuple\n",
    "\n",
    "import sys\n",
    " \n",
    "# sample Tuples\n",
    "Tuple1 = (\"A\", 1, \"B\", 2, \"C\", 3)\n",
    "Tuple2 = (\"tanu1\", \"Raju\", \"anu2\", \"Nikhil\", \"darshu3\", \"Deepanshu\")\n",
    "Tuple3 = ((1, \"Lion\"), ( 2, \"Tiger\"), (3, \"Fox\"), (4, \"Wolf\"))\n",
    " \n",
    "# print the sizes of sample Tuples\n",
    "print(\"Size of Tuple1: \" + str(sys.getsizeof(Tuple1)) + \"bytes\")\n",
    "print(\"Size of Tuple2: \" + str(sys.getsizeof(Tuple2)) + \"bytes\")\n",
    "print(\"Size of Tuple3: \" + str(sys.getsizeof(Tuple3)) + \"bytes\")"
   ]
  },
  {
   "cell_type": "code",
   "execution_count": 24,
   "metadata": {},
   "outputs": [
    {
     "name": "stdout",
     "output_type": "stream",
     "text": [
      "[(1, 1), (2, 8), (5, 125), (6, 216)]\n"
     ]
    }
   ],
   "source": [
    "#create a list of tiples from given list having number and its cube in each tuple\n",
    "\n",
    "\n",
    "list1 = [1, 2, 5, 6]\n",
    " \n",
    "# using list comprehension to iterate each\n",
    "# values in list and create a tuple as specified\n",
    "res = [(val, val**3) for val in list1]\n",
    " \n",
    "# print the result\n",
    "print(res)"
   ]
  },
  {
   "cell_type": "code",
   "execution_count": 25,
   "metadata": {},
   "outputs": [
    {
     "name": "stdout",
     "output_type": "stream",
     "text": [
      "Orignal list :  [(25, 13), (22, 19)]\n",
      "Digits Extracted:  [2, 3, 5, 1, 9]\n"
     ]
    }
   ],
   "source": [
    "#python- Extract digits from tuple list\n",
    "\n",
    "import re\n",
    "List = [(25, 13), (22, 19)]\n",
    "# Given list\n",
    "print(\"Orignal list : \", List)\n",
    "temp = re.sub(r'[\\[\\]\\(\\), ]', '', str(List))\n",
    "# Using set\n",
    "result =  [int(i) for i in set(temp)]\n",
    "# Result\n",
    "print(\"Digits Extracted: \",result)"
   ]
  },
  {
   "cell_type": "code",
   "execution_count": 27,
   "metadata": {},
   "outputs": [
    {
     "name": "stdout",
     "output_type": "stream",
     "text": [
      "TABLE before clear: [6, 0, 4, 1]\n",
      "TABLE after clear: []\n"
     ]
    }
   ],
   "source": [
    "#python program to delete all elements in list\n",
    "\n",
    "\n",
    "# Creating list\n",
    "TABLE = [6, 0, 4, 1]\n",
    "print('TABLE before clear:', TABLE)\n",
    " \n",
    "# Clearing list\n",
    "TABLE.clear()\n",
    "print('TABLE after clear:', TABLE)\n",
    "\n",
    "\n",
    "\n"
   ]
  },
  {
   "cell_type": "code",
   "execution_count": 28,
   "metadata": {},
   "outputs": [
    {
     "name": "stdout",
     "output_type": "stream",
     "text": [
      "17600\n"
     ]
    }
   ],
   "source": [
    "#PYTHON PROGRAM TO ENTER BASIC SALARY AND CALCULATE GROSS SALARY OF AN EMPLOYEE\n",
    "\n",
    "def computeSalary( basic, grade):\n",
    "     \n",
    "    hra = 0.2 * basic\n",
    "    da = 0.5 * basic\n",
    "    pf = 0.11 * basic\n",
    "     \n",
    "    # Condition to compute the\n",
    "    # allowance for the person\n",
    "    if grade == 'A':\n",
    "        allowance = 1700.0\n",
    "    elif grade == 'B':\n",
    "        allowance = 1500.0\n",
    "    else:\n",
    "        allowance = 1300.0;\n",
    "     \n",
    "    gross = round(basic + hra + da +\n",
    "                    allowance - pf)\n",
    "                     \n",
    "    return gross\n",
    " \n",
    "# Driver code\n",
    "if __name__ == '__main__':\n",
    "     \n",
    "    basic = 10000\n",
    "    grade = 'A'\n",
    "     \n",
    "    # Function call\n",
    "    print(computeSalary(basic, grade));"
   ]
  },
  {
   "cell_type": "code",
   "execution_count": 32,
   "metadata": {},
   "outputs": [
    {
     "name": "stdout",
     "output_type": "stream",
     "text": [
      "Average of elements in the list 7.5\n"
     ]
    }
   ],
   "source": [
    "#python program to calculate the average of numbers in a given list\n",
    "\n",
    "\n",
    "n=int(input(\"Enter the number of elements to be inserted: \"))\n",
    "a=[]\n",
    "for i in range(0,n):\n",
    "    elem=int(input(\"Enter element: \"))\n",
    "    a.append(elem)\n",
    "avg=sum(a)/n\n",
    "print(\"Average of elements in the list\",round(avg,2))\n"
   ]
  }
 ],
 "metadata": {
  "kernelspec": {
   "display_name": "Python 3",
   "language": "python",
   "name": "python3"
  },
  "language_info": {
   "codemirror_mode": {
    "name": "ipython",
    "version": 3
   },
   "file_extension": ".py",
   "mimetype": "text/x-python",
   "name": "python",
   "nbconvert_exporter": "python",
   "pygments_lexer": "ipython3",
   "version": "3.11.3"
  },
  "orig_nbformat": 4
 },
 "nbformat": 4,
 "nbformat_minor": 2
}
